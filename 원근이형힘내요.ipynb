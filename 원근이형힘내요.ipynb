{
 "cells": [
  {
   "cell_type": "code",
   "execution_count": 1,
   "metadata": {},
   "outputs": [],
   "source": [
    "import requests #Used to service API connection\n",
    "from lxml import html #Used to parse XML\n",
    "from bs4 import BeautifulSoup #Used to read XML table on webpage\n",
    "import pandas as pd\n",
    "from common import cFunction as cf\n",
    "import numpy as np\n",
    "import wget\n",
    "import datetime as dt\n",
    "# from tabula import read_pdf"
   ]
  },
  {
   "cell_type": "code",
   "execution_count": 2,
   "metadata": {},
   "outputs": [
    {
     "name": "stdout",
     "output_type": "stream",
     "text": [
      "### The total number of target data is 417\n"
     ]
    }
   ],
   "source": [
    "dataList = pd.read_csv(\"https://docs.google.com/spreadsheets/d/1VngqG-m7G8k1587c21MZoheR1Fz3amp1mJtiBvA1Jb0/export?format=csv&gid=0\")\n",
    "print(\"### The total number of target data is \" + str(len(dataList)))"
   ]
  },
  {
   "cell_type": "code",
   "execution_count": 3,
   "metadata": {
    "scrolled": true
   },
   "outputs": [
    {
     "data": {
      "text/html": [
       "<div>\n",
       "<style scoped>\n",
       "    .dataframe tbody tr th:only-of-type {\n",
       "        vertical-align: middle;\n",
       "    }\n",
       "\n",
       "    .dataframe tbody tr th {\n",
       "        vertical-align: top;\n",
       "    }\n",
       "\n",
       "    .dataframe thead th {\n",
       "        text-align: right;\n",
       "    }\n",
       "</style>\n",
       "<table border=\"1\" class=\"dataframe\">\n",
       "  <thead>\n",
       "    <tr style=\"text-align: right;\">\n",
       "      <th></th>\n",
       "      <th>번호</th>\n",
       "      <th>접속 사이트</th>\n",
       "      <th>제공항목(데이터셋)</th>\n",
       "      <th>폴더명</th>\n",
       "      <th>작업자</th>\n",
       "      <th>시작일</th>\n",
       "      <th>종료일</th>\n",
       "      <th>검토자</th>\n",
       "      <th>진행상태</th>\n",
       "      <th>비고</th>\n",
       "      <th>...</th>\n",
       "      <th>파라미터</th>\n",
       "      <th>제공방식.1</th>\n",
       "      <th>데이터타입</th>\n",
       "      <th>참고문서</th>\n",
       "      <th>참고문서타입</th>\n",
       "      <th>주기</th>\n",
       "      <th>비고_파라미터설명</th>\n",
       "      <th>완료여부</th>\n",
       "      <th>API PGM ID</th>\n",
       "      <th>파일명</th>\n",
       "    </tr>\n",
       "  </thead>\n",
       "  <tbody>\n",
       "    <tr>\n",
       "      <th>353</th>\n",
       "      <td>354</td>\n",
       "      <td>공공데이터포털</td>\n",
       "      <td>한국감정원 주택거래 현황</td>\n",
       "      <td>353_한국감정원 주택거래 현황</td>\n",
       "      <td>이신우</td>\n",
       "      <td>NaN</td>\n",
       "      <td>NaN</td>\n",
       "      <td>NaN</td>\n",
       "      <td>NaN</td>\n",
       "      <td>NaN</td>\n",
       "      <td>...</td>\n",
       "      <td>startmonth=시작날&amp;endmonth=끝날&amp;region=지역코드</td>\n",
       "      <td>api</td>\n",
       "      <td>xml</td>\n",
       "      <td>NaN</td>\n",
       "      <td>NaN</td>\n",
       "      <td>NaN</td>\n",
       "      <td>201302&amp;201903&amp;49000</td>\n",
       "      <td>353 중복, 20190419 삭제</td>\n",
       "      <td>TB_OD10353.py</td>\n",
       "      <td>TB_OD10353_yyyymm.csv</td>\n",
       "    </tr>\n",
       "    <tr>\n",
       "      <th>354</th>\n",
       "      <td>355</td>\n",
       "      <td>공공데이터포털</td>\n",
       "      <td>한국감정원 주택거래 현황</td>\n",
       "      <td>354_한국감정원 주택거래 현황</td>\n",
       "      <td>NaN</td>\n",
       "      <td>NaN</td>\n",
       "      <td>NaN</td>\n",
       "      <td>NaN</td>\n",
       "      <td>NaN</td>\n",
       "      <td>NaN</td>\n",
       "      <td>...</td>\n",
       "      <td>startmonth=201901&amp;endmonth=201903&amp;region=19000</td>\n",
       "      <td>api</td>\n",
       "      <td>xml</td>\n",
       "      <td>https://www.data.go.kr/comm/file/download.do?a...</td>\n",
       "      <td>NaN</td>\n",
       "      <td>NaN</td>\n",
       "      <td>201901&amp;201903&amp;48000</td>\n",
       "      <td>완료</td>\n",
       "      <td>TB_OD10354.py</td>\n",
       "      <td>TB_OD10354_yyyymm.csv</td>\n",
       "    </tr>\n",
       "  </tbody>\n",
       "</table>\n",
       "<p>2 rows × 31 columns</p>\n",
       "</div>"
      ],
      "text/plain": [
       "      번호   접속 사이트     제공항목(데이터셋)                폴더명  작업자  시작일  종료일  검토자 진행상태  \\\n",
       "353  354  공공데이터포털  한국감정원 주택거래 현황  353_한국감정원 주택거래 현황  이신우  NaN  NaN  NaN  NaN   \n",
       "354  355  공공데이터포털  한국감정원 주택거래 현황  354_한국감정원 주택거래 현황  NaN  NaN  NaN  NaN  NaN   \n",
       "\n",
       "      비고          ...            \\\n",
       "353  NaN          ...             \n",
       "354  NaN          ...             \n",
       "\n",
       "                                               파라미터 제공방식.1 데이터타입  \\\n",
       "353          startmonth=시작날&endmonth=끝날&region=지역코드    api   xml   \n",
       "354  startmonth=201901&endmonth=201903&region=19000    api   xml   \n",
       "\n",
       "                                                  참고문서 참고문서타입  주기  \\\n",
       "353                                                NaN    NaN NaN   \n",
       "354  https://www.data.go.kr/comm/file/download.do?a...    NaN NaN   \n",
       "\n",
       "               비고_파라미터설명                 완료여부     API PGM ID  \\\n",
       "353  201302&201903&49000  353 중복, 20190419 삭제  TB_OD10353.py   \n",
       "354  201901&201903&48000                   완료  TB_OD10354.py   \n",
       "\n",
       "                       파일명  \n",
       "353  TB_OD10353_yyyymm.csv  \n",
       "354  TB_OD10354_yyyymm.csv  \n",
       "\n",
       "[2 rows x 31 columns]"
      ]
     },
     "execution_count": 3,
     "metadata": {},
     "output_type": "execute_result"
    }
   ],
   "source": [
    "dataList = dataList[   dataList['제공항목(데이터셋)'] == '한국감정원 주택거래 현황' ]\n",
    "dataList"
   ]
  },
  {
   "cell_type": "code",
   "execution_count": null,
   "metadata": {},
   "outputs": [],
   "source": []
  },
  {
   "cell_type": "code",
   "execution_count": 4,
   "metadata": {
    "scrolled": true
   },
   "outputs": [
    {
     "data": {
      "text/html": [
       "<div>\n",
       "<style scoped>\n",
       "    .dataframe tbody tr th:only-of-type {\n",
       "        vertical-align: middle;\n",
       "    }\n",
       "\n",
       "    .dataframe tbody tr th {\n",
       "        vertical-align: top;\n",
       "    }\n",
       "\n",
       "    .dataframe thead th {\n",
       "        text-align: right;\n",
       "    }\n",
       "</style>\n",
       "<table border=\"1\" class=\"dataframe\">\n",
       "  <thead>\n",
       "    <tr style=\"text-align: right;\">\n",
       "      <th></th>\n",
       "      <th>번호</th>\n",
       "      <th>접속 사이트</th>\n",
       "      <th>제공항목(데이터셋)</th>\n",
       "      <th>폴더명</th>\n",
       "      <th>작업자</th>\n",
       "      <th>시작일</th>\n",
       "      <th>종료일</th>\n",
       "      <th>검토자</th>\n",
       "      <th>진행상태</th>\n",
       "      <th>비고</th>\n",
       "      <th>...</th>\n",
       "      <th>파라미터</th>\n",
       "      <th>제공방식.1</th>\n",
       "      <th>데이터타입</th>\n",
       "      <th>참고문서</th>\n",
       "      <th>참고문서타입</th>\n",
       "      <th>주기</th>\n",
       "      <th>비고_파라미터설명</th>\n",
       "      <th>완료여부</th>\n",
       "      <th>API PGM ID</th>\n",
       "      <th>파일명</th>\n",
       "    </tr>\n",
       "  </thead>\n",
       "  <tbody>\n",
       "    <tr>\n",
       "      <th>0</th>\n",
       "      <td>354</td>\n",
       "      <td>공공데이터포털</td>\n",
       "      <td>한국감정원 주택거래 현황</td>\n",
       "      <td>353_한국감정원 주택거래 현황</td>\n",
       "      <td>이신우</td>\n",
       "      <td></td>\n",
       "      <td></td>\n",
       "      <td></td>\n",
       "      <td></td>\n",
       "      <td></td>\n",
       "      <td>...</td>\n",
       "      <td>startmonth=시작날&amp;endmonth=끝날&amp;region=지역코드</td>\n",
       "      <td>api</td>\n",
       "      <td>xml</td>\n",
       "      <td></td>\n",
       "      <td></td>\n",
       "      <td></td>\n",
       "      <td>201302&amp;201903&amp;49000</td>\n",
       "      <td>353 중복, 20190419 삭제</td>\n",
       "      <td>TB_OD10353.py</td>\n",
       "      <td>TB_OD10353_yyyymm.csv</td>\n",
       "    </tr>\n",
       "    <tr>\n",
       "      <th>1</th>\n",
       "      <td>355</td>\n",
       "      <td>공공데이터포털</td>\n",
       "      <td>한국감정원 주택거래 현황</td>\n",
       "      <td>354_한국감정원 주택거래 현황</td>\n",
       "      <td></td>\n",
       "      <td></td>\n",
       "      <td></td>\n",
       "      <td></td>\n",
       "      <td></td>\n",
       "      <td></td>\n",
       "      <td>...</td>\n",
       "      <td>startmonth=201901&amp;endmonth=201903&amp;region=19000</td>\n",
       "      <td>api</td>\n",
       "      <td>xml</td>\n",
       "      <td>https://www.data.go.kr/comm/file/download.do?a...</td>\n",
       "      <td></td>\n",
       "      <td></td>\n",
       "      <td>201901&amp;201903&amp;48000</td>\n",
       "      <td>완료</td>\n",
       "      <td>TB_OD10354.py</td>\n",
       "      <td>TB_OD10354_yyyymm.csv</td>\n",
       "    </tr>\n",
       "  </tbody>\n",
       "</table>\n",
       "<p>2 rows × 31 columns</p>\n",
       "</div>"
      ],
      "text/plain": [
       "    번호   접속 사이트     제공항목(데이터셋)                폴더명  작업자 시작일 종료일 검토자 진행상태 비고  \\\n",
       "0  354  공공데이터포털  한국감정원 주택거래 현황  353_한국감정원 주택거래 현황  이신우                       \n",
       "1  355  공공데이터포털  한국감정원 주택거래 현황  354_한국감정원 주택거래 현황                            \n",
       "\n",
       "           ...                                                      파라미터  \\\n",
       "0          ...                    startmonth=시작날&endmonth=끝날&region=지역코드   \n",
       "1          ...            startmonth=201901&endmonth=201903&region=19000   \n",
       "\n",
       "  제공방식.1 데이터타입                                               참고문서 참고문서타입 주기  \\\n",
       "0    api   xml                                                                \n",
       "1    api   xml  https://www.data.go.kr/comm/file/download.do?a...             \n",
       "\n",
       "             비고_파라미터설명                 완료여부     API PGM ID  \\\n",
       "0  201302&201903&49000  353 중복, 20190419 삭제  TB_OD10353.py   \n",
       "1  201901&201903&48000                   완료  TB_OD10354.py   \n",
       "\n",
       "                     파일명  \n",
       "0  TB_OD10353_yyyymm.csv  \n",
       "1  TB_OD10354_yyyymm.csv  \n",
       "\n",
       "[2 rows x 31 columns]"
      ]
     },
     "execution_count": 4,
     "metadata": {},
     "output_type": "execute_result"
    }
   ],
   "source": [
    "dataList = dataList.fillna(\"\")\n",
    "dataList = dataList.reset_index(drop=True)\n",
    "dataList"
   ]
  },
  {
   "cell_type": "code",
   "execution_count": 6,
   "metadata": {},
   "outputs": [
    {
     "name": "stdout",
     "output_type": "stream",
     "text": [
      "startmonth=시작날&endmonth=끝날&region=지역코드\n"
     ]
    }
   ],
   "source": [
    "inputUrl = dataList.loc[0, \"사이트\"]\n",
    "inputKey = dataList.loc[0, \"서비스키\"]\n",
    "inputParameter = dataList.loc[0, \"파라미터\"]\n",
    "inputFolder = dataList.loc[0, \"폴더명\"]\n",
    "inputFile = dataList.loc[0, \"서비스명\"]\n",
    "inputDataType = dataList.loc[0, \"데이터타입\"]\n",
    "inputRefUrl = dataList.loc[0, \"참고문서\"]\n",
    "inputRefType = dataList.loc[0, \"참고문서타입\"]\n",
    "newParameter= dataList.loc[0, \"비고_파라미터설명\"] ## 비고_파라미터설명 에 입력하면 그 값을 출력하기 위해\n",
    "print(inputParameter)                             ## 추가해줌"
   ]
  },
  {
   "cell_type": "code",
   "execution_count": 7,
   "metadata": {},
   "outputs": [],
   "source": [
    "def good(inputParameter):    \n",
    "\n",
    "    aa = (inputParameter.split('&')[0]).split('=')[1]  ## 파라미터에 startmonth=00&endmonth=11&region=22\n",
    "    bb = (inputParameter.split('&')[1]).split('=')[1]  ## 해당 00 11 22 에 추출할 시작,끝,지역코드를\n",
    "    cc = (inputParameter.split('&')[2]).split('=')[1]  ## 비고_파라미터설명 에 입력하면\n",
    "    newParameter                                       ## 그걸 처리해주는 함수\n",
    "    ffff = (newParameter.split('&'))\n",
    "    aaaaa = inputParameter.replace(aa,ffff[0]).replace(bb,ffff[1]).replace(cc,ffff[2])\n",
    "    inputParameter=aaaaa\n",
    "    \n",
    "    return inputParameter"
   ]
  },
  {
   "cell_type": "code",
   "execution_count": 8,
   "metadata": {},
   "outputs": [],
   "source": [
    "inputParameter=good(inputParameter)"
   ]
  },
  {
   "cell_type": "code",
   "execution_count": 9,
   "metadata": {},
   "outputs": [
    {
     "data": {
      "text/plain": [
       "'startmonth=201302&endmonth=201903&region=49000'"
      ]
     },
     "execution_count": 9,
     "metadata": {},
     "output_type": "execute_result"
    }
   ],
   "source": [
    "inputParameter"
   ]
  },
  {
   "cell_type": "code",
   "execution_count": 397,
   "metadata": {},
   "outputs": [
    {
     "name": "stdout",
     "output_type": "stream",
     "text": [
      "fullUrl is http://openapi.kab.co.kr/OpenAPI_ToolInstallPackage/service/rest/AptTradingStateSvc/getAptTrdStateCaseOfNbr?&serviceKey=aiaNgZ3r3nPeUj5%2FKuJ10ZNRmyePXavavOu8RZwO%2F84LnOn5KxhWa1%2F5nwxk0Y4M10W0fjCK1SksOQeQsdMu6A%3D%3D&startmonth=201901&endmonth=201903&region=48000\n"
     ]
    }
   ],
   "source": [
    "url = cf.makeURL(inputUrl,inputKey,inputParameter)\n",
    "print(\"fullUrl is \" + url)"
   ]
  },
  {
   "cell_type": "code",
   "execution_count": 398,
   "metadata": {},
   "outputs": [
    {
     "name": "stdout",
     "output_type": "stream",
     "text": [
      "  regionCd regionNm                                rsRow\n",
      "0    48000       경남  201901,5339|201902,5760|201903,6902\n"
     ]
    }
   ],
   "source": [
    "newDF = pd.DataFrame()\n",
    "if (inputDataType == \"xml\"):\n",
    "        newDF = cf.xmlProcess(url)\n",
    "elif(inputDataType == \"json\"):\n",
    "        newDF = cf.jsonProcess(url)\n",
    "elif(inputDataType == \"csv\"):\n",
    "        newDF = cf.csvProcess(url)"
   ]
  },
  {
   "cell_type": "code",
   "execution_count": 399,
   "metadata": {},
   "outputs": [
    {
     "data": {
      "text/html": [
       "<div>\n",
       "<style scoped>\n",
       "    .dataframe tbody tr th:only-of-type {\n",
       "        vertical-align: middle;\n",
       "    }\n",
       "\n",
       "    .dataframe tbody tr th {\n",
       "        vertical-align: top;\n",
       "    }\n",
       "\n",
       "    .dataframe thead th {\n",
       "        text-align: right;\n",
       "    }\n",
       "</style>\n",
       "<table border=\"1\" class=\"dataframe\">\n",
       "  <thead>\n",
       "    <tr style=\"text-align: right;\">\n",
       "      <th></th>\n",
       "      <th>regionCd</th>\n",
       "      <th>regionNm</th>\n",
       "      <th>rsRow</th>\n",
       "    </tr>\n",
       "  </thead>\n",
       "  <tbody>\n",
       "    <tr>\n",
       "      <th>0</th>\n",
       "      <td>48000</td>\n",
       "      <td>경남</td>\n",
       "      <td>201901,5339|201902,5760|201903,6902</td>\n",
       "    </tr>\n",
       "  </tbody>\n",
       "</table>\n",
       "</div>"
      ],
      "text/plain": [
       "  regionCd regionNm                                rsRow\n",
       "0    48000       경남  201901,5339|201902,5760|201903,6902"
      ]
     },
     "execution_count": 399,
     "metadata": {},
     "output_type": "execute_result"
    }
   ],
   "source": [
    "newDF.head()"
   ]
  },
  {
   "cell_type": "code",
   "execution_count": 400,
   "metadata": {},
   "outputs": [
    {
     "data": {
      "text/html": [
       "<div>\n",
       "<style scoped>\n",
       "    .dataframe tbody tr th:only-of-type {\n",
       "        vertical-align: middle;\n",
       "    }\n",
       "\n",
       "    .dataframe tbody tr th {\n",
       "        vertical-align: top;\n",
       "    }\n",
       "\n",
       "    .dataframe thead th {\n",
       "        text-align: right;\n",
       "    }\n",
       "</style>\n",
       "<table border=\"1\" class=\"dataframe\">\n",
       "  <thead>\n",
       "    <tr style=\"text-align: right;\">\n",
       "      <th></th>\n",
       "      <th>rsRow</th>\n",
       "    </tr>\n",
       "  </thead>\n",
       "  <tbody>\n",
       "    <tr>\n",
       "      <th>0</th>\n",
       "      <td>201901,5339|201902,5760|201903,6902</td>\n",
       "    </tr>\n",
       "  </tbody>\n",
       "</table>\n",
       "</div>"
      ],
      "text/plain": [
       "                                 rsRow\n",
       "0  201901,5339|201902,5760|201903,6902"
      ]
     },
     "execution_count": 400,
     "metadata": {},
     "output_type": "execute_result"
    }
   ],
   "source": [
    "a = newDF[[\"rsRow\"]]\n",
    "a"
   ]
  },
  {
   "cell_type": "code",
   "execution_count": 401,
   "metadata": {},
   "outputs": [],
   "source": [
    "count = len(newDF.loc[0,\"rsRow\"].split(\"|\"))"
   ]
  },
  {
   "cell_type": "code",
   "execution_count": 402,
   "metadata": {},
   "outputs": [
    {
     "data": {
      "text/plain": [
       "3"
      ]
     },
     "execution_count": 402,
     "metadata": {},
     "output_type": "execute_result"
    }
   ],
   "source": [
    "count"
   ]
  },
  {
   "cell_type": "code",
   "execution_count": 403,
   "metadata": {},
   "outputs": [
    {
     "data": {
      "text/plain": [
       "'5339'"
      ]
     },
     "execution_count": 403,
     "metadata": {},
     "output_type": "execute_result"
    }
   ],
   "source": [
    "(newDF.loc[0,\"rsRow\"].split(\"|\")[0]).split(\",\")[1]"
   ]
  },
  {
   "cell_type": "code",
   "execution_count": 404,
   "metadata": {},
   "outputs": [
    {
     "data": {
      "text/plain": [
       "'201901'"
      ]
     },
     "execution_count": 404,
     "metadata": {},
     "output_type": "execute_result"
    }
   ],
   "source": [
    "kk=(newDF.loc[0,\"rsRow\"].split(\"|\")[0]).split(\",\")[0]\n",
    "kk"
   ]
  },
  {
   "cell_type": "code",
   "execution_count": 405,
   "metadata": {},
   "outputs": [],
   "source": [
    "for i in  range (0, count) :\n",
    "    newDF[(newDF.loc[0,\"rsRow\"].split(\"|\")[i]).split(\",\")[0]] = (newDF.loc[0,\"rsRow\"].split(\"|\")[i]).split(\",\")[1]\n",
    "    \n",
    "#     newDF[\"YYYY\"]=(newDF.loc[0,\"rsRow\"].split(\"|\")[i]).split(\",\")[0]\n",
    "#     newDF[\"KKKK\"]=(newDF.loc[0,\"rsRow\"].split(\"|\")[i]).split(\",\")[1]\n",
    "    "
   ]
  },
  {
   "cell_type": "code",
   "execution_count": 406,
   "metadata": {},
   "outputs": [
    {
     "data": {
      "text/html": [
       "<div>\n",
       "<style scoped>\n",
       "    .dataframe tbody tr th:only-of-type {\n",
       "        vertical-align: middle;\n",
       "    }\n",
       "\n",
       "    .dataframe tbody tr th {\n",
       "        vertical-align: top;\n",
       "    }\n",
       "\n",
       "    .dataframe thead th {\n",
       "        text-align: right;\n",
       "    }\n",
       "</style>\n",
       "<table border=\"1\" class=\"dataframe\">\n",
       "  <thead>\n",
       "    <tr style=\"text-align: right;\">\n",
       "      <th></th>\n",
       "      <th>regionCd</th>\n",
       "      <th>regionNm</th>\n",
       "      <th>rsRow</th>\n",
       "      <th>201901</th>\n",
       "      <th>201902</th>\n",
       "      <th>201903</th>\n",
       "    </tr>\n",
       "  </thead>\n",
       "  <tbody>\n",
       "    <tr>\n",
       "      <th>0</th>\n",
       "      <td>48000</td>\n",
       "      <td>경남</td>\n",
       "      <td>201901,5339|201902,5760|201903,6902</td>\n",
       "      <td>5339</td>\n",
       "      <td>5760</td>\n",
       "      <td>6902</td>\n",
       "    </tr>\n",
       "  </tbody>\n",
       "</table>\n",
       "</div>"
      ],
      "text/plain": [
       "  regionCd regionNm                                rsRow 201901 201902 201903\n",
       "0    48000       경남  201901,5339|201902,5760|201903,6902   5339   5760   6902"
      ]
     },
     "execution_count": 406,
     "metadata": {},
     "output_type": "execute_result"
    }
   ],
   "source": [
    "newDF.head()"
   ]
  },
  {
   "cell_type": "code",
   "execution_count": 407,
   "metadata": {},
   "outputs": [],
   "source": [
    "del newDF[\"rsRow\"]"
   ]
  },
  {
   "cell_type": "code",
   "execution_count": 408,
   "metadata": {},
   "outputs": [
    {
     "data": {
      "text/html": [
       "<div>\n",
       "<style scoped>\n",
       "    .dataframe tbody tr th:only-of-type {\n",
       "        vertical-align: middle;\n",
       "    }\n",
       "\n",
       "    .dataframe tbody tr th {\n",
       "        vertical-align: top;\n",
       "    }\n",
       "\n",
       "    .dataframe thead th {\n",
       "        text-align: right;\n",
       "    }\n",
       "</style>\n",
       "<table border=\"1\" class=\"dataframe\">\n",
       "  <thead>\n",
       "    <tr style=\"text-align: right;\">\n",
       "      <th></th>\n",
       "      <th>regionCd</th>\n",
       "      <th>regionNm</th>\n",
       "      <th>201901</th>\n",
       "      <th>201902</th>\n",
       "      <th>201903</th>\n",
       "    </tr>\n",
       "  </thead>\n",
       "  <tbody>\n",
       "    <tr>\n",
       "      <th>0</th>\n",
       "      <td>48000</td>\n",
       "      <td>경남</td>\n",
       "      <td>5339</td>\n",
       "      <td>5760</td>\n",
       "      <td>6902</td>\n",
       "    </tr>\n",
       "  </tbody>\n",
       "</table>\n",
       "</div>"
      ],
      "text/plain": [
       "  regionCd regionNm 201901 201902 201903\n",
       "0    48000       경남   5339   5760   6902"
      ]
     },
     "execution_count": 408,
     "metadata": {},
     "output_type": "execute_result"
    }
   ],
   "source": [
    "newDF.head()"
   ]
  },
  {
   "cell_type": "code",
   "execution_count": null,
   "metadata": {},
   "outputs": [],
   "source": []
  },
  {
   "cell_type": "code",
   "execution_count": 409,
   "metadata": {},
   "outputs": [],
   "source": [
    "groupKey = [\"regionCd\",\"regionNm\"]"
   ]
  },
  {
   "cell_type": "code",
   "execution_count": 410,
   "metadata": {},
   "outputs": [
    {
     "ename": "KeyError",
     "evalue": "\"Columns not found: 'YYYY'\"",
     "output_type": "error",
     "traceback": [
      "\u001b[1;31m---------------------------------------------------------------------------\u001b[0m",
      "\u001b[1;31mKeyError\u001b[0m                                  Traceback (most recent call last)",
      "\u001b[1;32m<ipython-input-410-a7fd0d344386>\u001b[0m in \u001b[0;36m<module>\u001b[1;34m\u001b[0m\n\u001b[1;32m----> 1\u001b[1;33m \u001b[0mgroupData\u001b[0m \u001b[1;33m=\u001b[0m \u001b[0mnewDF\u001b[0m\u001b[1;33m.\u001b[0m\u001b[0mgroupby\u001b[0m\u001b[1;33m(\u001b[0m\u001b[0mgroupKey\u001b[0m\u001b[1;33m)\u001b[0m\u001b[1;33m[\u001b[0m\u001b[1;33m[\u001b[0m\u001b[1;34m\"YYYY\"\u001b[0m\u001b[1;33m]\u001b[0m\u001b[1;33m]\u001b[0m\u001b[1;33m.\u001b[0m\u001b[0mmean\u001b[0m\u001b[1;33m(\u001b[0m\u001b[1;33m)\u001b[0m\u001b[1;33m\u001b[0m\u001b[1;33m\u001b[0m\u001b[0m\n\u001b[0m",
      "\u001b[1;32mC:\\ProgramData\\Anaconda3\\lib\\site-packages\\pandas\\core\\base.py\u001b[0m in \u001b[0;36m__getitem__\u001b[1;34m(self, key)\u001b[0m\n\u001b[0;32m    255\u001b[0m                 \u001b[0mbad_keys\u001b[0m \u001b[1;33m=\u001b[0m \u001b[0mlist\u001b[0m\u001b[1;33m(\u001b[0m\u001b[0mset\u001b[0m\u001b[1;33m(\u001b[0m\u001b[0mkey\u001b[0m\u001b[1;33m)\u001b[0m\u001b[1;33m.\u001b[0m\u001b[0mdifference\u001b[0m\u001b[1;33m(\u001b[0m\u001b[0mself\u001b[0m\u001b[1;33m.\u001b[0m\u001b[0mobj\u001b[0m\u001b[1;33m.\u001b[0m\u001b[0mcolumns\u001b[0m\u001b[1;33m)\u001b[0m\u001b[1;33m)\u001b[0m\u001b[1;33m\u001b[0m\u001b[1;33m\u001b[0m\u001b[0m\n\u001b[0;32m    256\u001b[0m                 raise KeyError(\"Columns not found: {missing}\"\n\u001b[1;32m--> 257\u001b[1;33m                                .format(missing=str(bad_keys)[1:-1]))\n\u001b[0m\u001b[0;32m    258\u001b[0m             \u001b[1;32mreturn\u001b[0m \u001b[0mself\u001b[0m\u001b[1;33m.\u001b[0m\u001b[0m_gotitem\u001b[0m\u001b[1;33m(\u001b[0m\u001b[0mlist\u001b[0m\u001b[1;33m(\u001b[0m\u001b[0mkey\u001b[0m\u001b[1;33m)\u001b[0m\u001b[1;33m,\u001b[0m \u001b[0mndim\u001b[0m\u001b[1;33m=\u001b[0m\u001b[1;36m2\u001b[0m\u001b[1;33m)\u001b[0m\u001b[1;33m\u001b[0m\u001b[1;33m\u001b[0m\u001b[0m\n\u001b[0;32m    259\u001b[0m \u001b[1;33m\u001b[0m\u001b[0m\n",
      "\u001b[1;31mKeyError\u001b[0m: \"Columns not found: 'YYYY'\""
     ]
    }
   ],
   "source": [
    "groupData = newDF.groupby(groupKey)[[\"YYYY\"]].mean()"
   ]
  },
  {
   "cell_type": "code",
   "execution_count": null,
   "metadata": {},
   "outputs": [],
   "source": []
  },
  {
   "cell_type": "code",
   "execution_count": 329,
   "metadata": {},
   "outputs": [],
   "source": [
    "outPath = \"../data/outbound/\"\n",
    "folderList = dataList[\"폴더명\"].tolist()\n",
    "cf.createFolder(outPath+\"354_한국감정원 주택거래 현황\")"
   ]
  },
  {
   "cell_type": "code",
   "execution_count": 330,
   "metadata": {},
   "outputs": [
    {
     "name": "stdout",
     "output_type": "stream",
     "text": [
      "../data/outbound/354_한국감정원 주택거래 현황/354_한국감정원 주택거래 현황201901&201903&48000.csv\n"
     ]
    }
   ],
   "source": [
    "fullOutPath = outPath+inputFolder+\"/\"+inputFolder+inputFile+newParameter+\".csv\"  ## newParameter 추가해서\n",
    "print(fullOutPath)                                              ## csv 파일이 중복되지 않게 뽑힘\n",
    "\n",
    "try:\n",
    "    newDF.to_csv(fullOutPath, index=False, encoding=\"ms949\")  ## 데이터저장\n",
    "except Exception as x:\n",
    "    print(x)"
   ]
  },
  {
   "cell_type": "code",
   "execution_count": 331,
   "metadata": {
    "scrolled": true
   },
   "outputs": [
    {
     "name": "stdout",
     "output_type": "stream",
     "text": [
      "\r",
      "  0% [                                                        ]      0 / 550930\r",
      "  1% [                                                        ]   8192 / 550930\r",
      "  2% [.                                                       ]  16384 / 550930\r",
      "  4% [..                                                      ]  24576 / 550930\r",
      "  5% [...                                                     ]  32768 / 550930\r",
      "  7% [....                                                    ]  40960 / 550930\r",
      "  8% [....                                                    ]  49152 / 550930\r",
      " 10% [.....                                                   ]  57344 / 550930\r",
      " 11% [......                                                  ]  65536 / 550930\r",
      " 13% [.......                                                 ]  73728 / 550930\r",
      " 14% [........                                                ]  81920 / 550930\r",
      " 16% [.........                                               ]  90112 / 550930\r",
      " 17% [.........                                               ]  98304 / 550930\r",
      " 19% [..........                                              ] 106496 / 550930\r",
      " 20% [...........                                             ] 114688 / 550930\r",
      " 22% [............                                            ] 122880 / 550930\r",
      " 23% [.............                                           ] 131072 / 550930\r",
      " 25% [..............                                          ] 139264 / 550930\r",
      " 26% [..............                                          ] 147456 / 550930\r",
      " 28% [...............                                         ] 155648 / 550930\r",
      " 29% [................                                        ] 163840 / 550930\r",
      " 31% [.................                                       ] 172032 / 550930\r",
      " 32% [..................                                      ] 180224 / 550930\r",
      " 34% [...................                                     ] 188416 / 550930\r",
      " 35% [...................                                     ] 196608 / 550930\r",
      " 37% [....................                                    ] 204800 / 550930\r",
      " 38% [.....................                                   ] 212992 / 550930\r",
      " 40% [......................                                  ] 221184 / 550930\r",
      " 41% [.......................                                 ] 229376 / 550930\r",
      " 43% [........................                                ] 237568 / 550930\r",
      " 44% [........................                                ] 245760 / 550930\r",
      " 46% [.........................                               ] 253952 / 550930\r",
      " 47% [..........................                              ] 262144 / 550930\r",
      " 49% [...........................                             ] 270336 / 550930\r",
      " 50% [............................                            ] 278528 / 550930\r",
      " 52% [.............................                           ] 286720 / 550930\r",
      " 53% [.............................                           ] 294912 / 550930\r",
      " 55% [..............................                          ] 303104 / 550930\r",
      " 56% [...............................                         ] 311296 / 550930\r",
      " 57% [................................                        ] 319488 / 550930\r",
      " 59% [.................................                       ] 327680 / 550930\r",
      " 60% [..................................                      ] 335872 / 550930\r",
      " 62% [..................................                      ] 344064 / 550930\r",
      " 63% [...................................                     ] 352256 / 550930\r",
      " 65% [....................................                    ] 360448 / 550930\r",
      " 66% [.....................................                   ] 368640 / 550930\r",
      " 68% [......................................                  ] 376832 / 550930\r",
      " 69% [.......................................                 ] 385024 / 550930\r",
      " 71% [.......................................                 ] 393216 / 550930\r",
      " 72% [........................................                ] 401408 / 550930\r",
      " 74% [.........................................               ] 409600 / 550930\r",
      " 75% [..........................................              ] 417792 / 550930\r",
      " 77% [...........................................             ] 425984 / 550930\r",
      " 78% [............................................            ] 434176 / 550930\r",
      " 80% [............................................            ] 442368 / 550930\r",
      " 81% [.............................................           ] 450560 / 550930\r",
      " 83% [..............................................          ] 458752 / 550930\r",
      " 84% [...............................................         ] 466944 / 550930\r",
      " 86% [................................................        ] 475136 / 550930\r",
      " 87% [.................................................       ] 483328 / 550930\r",
      " 89% [.................................................       ] 491520 / 550930\r",
      " 90% [..................................................      ] 499712 / 550930\r",
      " 92% [...................................................     ] 507904 / 550930\r",
      " 93% [....................................................    ] 516096 / 550930\r",
      " 95% [.....................................................   ] 524288 / 550930\r",
      " 96% [......................................................  ] 532480 / 550930\r",
      " 98% [......................................................  ] 540672 / 550930\r",
      " 99% [....................................................... ] 548864 / 550930\r",
      "100% [........................................................] 550930 / 550930"
     ]
    }
   ],
   "source": [
    "fullOutRefPath = outPath + inputFolder + \"/\" + inputFolder + inputFile + \".\"+inputRefType\n",
    "try:\n",
    "    wget.download(inputRefUrl, fullOutRefPath)\n",
    "except Exception as e:\n",
    "    print(inputFolder+\"참고문서 Error\")\n",
    "    print(e)\n",
    "    pass #만약 오류가 발생하더라도 그냥 넘어간다."
   ]
  },
  {
   "cell_type": "code",
   "execution_count": 332,
   "metadata": {},
   "outputs": [
    {
     "data": {
      "text/plain": [
       "'C:\\\\Users\\\\SMART-23\\\\Python_Fintech'"
      ]
     },
     "execution_count": 332,
     "metadata": {},
     "output_type": "execute_result"
    }
   ],
   "source": [
    "pwd"
   ]
  },
  {
   "cell_type": "code",
   "execution_count": null,
   "metadata": {},
   "outputs": [],
   "source": []
  },
  {
   "cell_type": "code",
   "execution_count": null,
   "metadata": {},
   "outputs": [],
   "source": []
  },
  {
   "cell_type": "code",
   "execution_count": null,
   "metadata": {},
   "outputs": [],
   "source": []
  },
  {
   "cell_type": "code",
   "execution_count": null,
   "metadata": {},
   "outputs": [],
   "source": []
  },
  {
   "cell_type": "code",
   "execution_count": null,
   "metadata": {},
   "outputs": [],
   "source": []
  },
  {
   "cell_type": "code",
   "execution_count": null,
   "metadata": {},
   "outputs": [],
   "source": [
    "201302&201407&48000"
   ]
  },
  {
   "cell_type": "code",
   "execution_count": null,
   "metadata": {},
   "outputs": [],
   "source": []
  },
  {
   "cell_type": "code",
   "execution_count": 359,
   "metadata": {
    "scrolled": true
   },
   "outputs": [
    {
     "data": {
      "text/plain": [
       "'startmonth=시작월&endmonth=종료월&region=지역코드'"
      ]
     },
     "execution_count": 359,
     "metadata": {},
     "output_type": "execute_result"
    }
   ],
   "source": [
    "inputParameter\n",
    "\n",
    "aa = (inputParameter.split('&')[0]).split('=')[1]\n",
    "bb = (inputParameter.split('&')[1]).split('=')[1]\n",
    "cc = (inputParameter.split('&')[2]).split('=')[1]\n",
    "newParameter\n",
    "ffff = (newParameter.split('&'))\n",
    "aaaaa = inputParameter.replace(aa,ffff[0]).replace(bb,ffff[1]).replace(cc,ffff[2])\n",
    "aaaaa"
   ]
  },
  {
   "cell_type": "code",
   "execution_count": 705,
   "metadata": {},
   "outputs": [],
   "source": [
    "def good(inputParameter):\n",
    "    aa = (inputParameter.split('&')[0]).split('=')[1]\n",
    "    bb = (inputParameter.split('&')[1]).split('=')[1]\n",
    "    cc = (inputParameter.split('&')[2]).split('=')[1]\n",
    "    newParameter\n",
    "    ffff = (newParameter.split('&'))\n",
    "    aaaaa = inputParameter.replace(aa,ffff[0]).replace(bb,ffff[1]).replace(cc,ffff[2])\n",
    "    return aaaaa"
   ]
  },
  {
   "cell_type": "code",
   "execution_count": 706,
   "metadata": {},
   "outputs": [
    {
     "data": {
      "text/plain": [
       "'startmonth=201302&endmonth=201407&region=11000'"
      ]
     },
     "execution_count": 706,
     "metadata": {},
     "output_type": "execute_result"
    }
   ],
   "source": [
    "good(inputParameter)"
   ]
  },
  {
   "cell_type": "code",
   "execution_count": null,
   "metadata": {},
   "outputs": [],
   "source": []
  },
  {
   "cell_type": "code",
   "execution_count": null,
   "metadata": {},
   "outputs": [],
   "source": []
  },
  {
   "cell_type": "code",
   "execution_count": null,
   "metadata": {},
   "outputs": [],
   "source": []
  },
  {
   "cell_type": "code",
   "execution_count": 881,
   "metadata": {},
   "outputs": [],
   "source": [
    "dt = datetime.datetime.now()"
   ]
  },
  {
   "cell_type": "code",
   "execution_count": 882,
   "metadata": {},
   "outputs": [
    {
     "data": {
      "text/plain": [
       "datetime.datetime(2019, 4, 24, 17, 31, 0, 942125)"
      ]
     },
     "execution_count": 882,
     "metadata": {},
     "output_type": "execute_result"
    }
   ],
   "source": [
    "dt"
   ]
  },
  {
   "cell_type": "code",
   "execution_count": 883,
   "metadata": {},
   "outputs": [
    {
     "data": {
      "text/plain": [
       "2019"
      ]
     },
     "execution_count": 883,
     "metadata": {},
     "output_type": "execute_result"
    }
   ],
   "source": [
    "dt.year"
   ]
  },
  {
   "cell_type": "code",
   "execution_count": 884,
   "metadata": {},
   "outputs": [
    {
     "data": {
      "text/plain": [
       "4"
      ]
     },
     "execution_count": 884,
     "metadata": {},
     "output_type": "execute_result"
    }
   ],
   "source": [
    "dt.month"
   ]
  },
  {
   "cell_type": "code",
   "execution_count": null,
   "metadata": {},
   "outputs": [],
   "source": []
  },
  {
   "cell_type": "code",
   "execution_count": 294,
   "metadata": {},
   "outputs": [],
   "source": [
    "inputParameter = inputParameter.replace(Test,\"가가가가\")"
   ]
  },
  {
   "cell_type": "code",
   "execution_count": 295,
   "metadata": {},
   "outputs": [
    {
     "data": {
      "text/plain": [
       "'startmonth=가가가가&endmonth=종료월&region=지역코드'"
      ]
     },
     "execution_count": 295,
     "metadata": {},
     "output_type": "execute_result"
    }
   ],
   "source": [
    "inputParameter"
   ]
  },
  {
   "cell_type": "code",
   "execution_count": null,
   "metadata": {},
   "outputs": [],
   "source": []
  },
  {
   "cell_type": "code",
   "execution_count": 229,
   "metadata": {},
   "outputs": [
    {
     "data": {
      "text/plain": [
       "'startmonth=startmonth=시작월&endmonth=endmonth=종료월&region=region=지역코드'"
      ]
     },
     "execution_count": 229,
     "metadata": {},
     "output_type": "execute_result"
    }
   ],
   "source": [
    "dd"
   ]
  },
  {
   "cell_type": "code",
   "execution_count": null,
   "metadata": {},
   "outputs": [],
   "source": []
  },
  {
   "cell_type": "code",
   "execution_count": 240,
   "metadata": {},
   "outputs": [
    {
     "data": {
      "text/plain": [
       "'201302, 201407, 480000'"
      ]
     },
     "execution_count": 240,
     "metadata": {},
     "output_type": "execute_result"
    }
   ],
   "source": [
    "newParameter"
   ]
  },
  {
   "cell_type": "code",
   "execution_count": 247,
   "metadata": {},
   "outputs": [
    {
     "data": {
      "text/plain": [
       "'2'"
      ]
     },
     "execution_count": 247,
     "metadata": {},
     "output_type": "execute_result"
    }
   ],
   "source": []
  },
  {
   "cell_type": "code",
   "execution_count": null,
   "metadata": {},
   "outputs": [],
   "source": []
  },
  {
   "cell_type": "code",
   "execution_count": null,
   "metadata": {},
   "outputs": [],
   "source": []
  },
  {
   "cell_type": "code",
   "execution_count": null,
   "metadata": {},
   "outputs": [],
   "source": []
  },
  {
   "cell_type": "code",
   "execution_count": 241,
   "metadata": {},
   "outputs": [
    {
     "data": {
      "text/plain": [
       "'startmonth=2'"
      ]
     },
     "execution_count": 241,
     "metadata": {},
     "output_type": "execute_result"
    }
   ],
   "source": [
    "aa = \"startmonth=\"+newParameter[0]\n",
    "aa"
   ]
  },
  {
   "cell_type": "code",
   "execution_count": 242,
   "metadata": {},
   "outputs": [
    {
     "data": {
      "text/plain": [
       "'endmonth=0'"
      ]
     },
     "execution_count": 242,
     "metadata": {},
     "output_type": "execute_result"
    }
   ],
   "source": [
    "bb = \"endmonth=\"+newParameter[1]\n",
    "bb"
   ]
  },
  {
   "cell_type": "code",
   "execution_count": 243,
   "metadata": {},
   "outputs": [
    {
     "data": {
      "text/plain": [
       "'region=1'"
      ]
     },
     "execution_count": 243,
     "metadata": {},
     "output_type": "execute_result"
    }
   ],
   "source": [
    "cc = \"region=\"+newParameter[2]\n",
    "cc"
   ]
  },
  {
   "cell_type": "code",
   "execution_count": 244,
   "metadata": {},
   "outputs": [],
   "source": [
    "dd=aa+\"&\"+bb+\"&\"+cc"
   ]
  },
  {
   "cell_type": "code",
   "execution_count": 245,
   "metadata": {},
   "outputs": [
    {
     "data": {
      "text/plain": [
       "'startmonth=2&endmonth=0&region=1'"
      ]
     },
     "execution_count": 245,
     "metadata": {},
     "output_type": "execute_result"
    }
   ],
   "source": [
    "dd"
   ]
  },
  {
   "cell_type": "code",
   "execution_count": null,
   "metadata": {},
   "outputs": [],
   "source": []
  },
  {
   "cell_type": "code",
   "execution_count": null,
   "metadata": {},
   "outputs": [],
   "source": []
  },
  {
   "cell_type": "code",
   "execution_count": 859,
   "metadata": {},
   "outputs": [
    {
     "ename": "SyntaxError",
     "evalue": "invalid syntax (<ipython-input-859-203620650705>, line 1)",
     "output_type": "error",
     "traceback": [
      "\u001b[1;36m  File \u001b[1;32m\"<ipython-input-859-203620650705>\"\u001b[1;36m, line \u001b[1;32m1\u001b[0m\n\u001b[1;33m    startmonth=A&endmonth=&region=48000\u001b[0m\n\u001b[1;37m                          ^\u001b[0m\n\u001b[1;31mSyntaxError\u001b[0m\u001b[1;31m:\u001b[0m invalid syntax\n"
     ]
    }
   ],
   "source": [
    "startmonth=201302&endmonth=201407&region=48000"
   ]
  },
  {
   "cell_type": "code",
   "execution_count": null,
   "metadata": {},
   "outputs": [],
   "source": []
  }
 ],
 "metadata": {
  "kernelspec": {
   "display_name": "Python 3",
   "language": "python",
   "name": "python3"
  },
  "language_info": {
   "codemirror_mode": {
    "name": "ipython",
    "version": 3
   },
   "file_extension": ".py",
   "mimetype": "text/x-python",
   "name": "python",
   "nbconvert_exporter": "python",
   "pygments_lexer": "ipython3",
   "version": "3.7.1"
  }
 },
 "nbformat": 4,
 "nbformat_minor": 2
}

{
 "cells": [
  {
   "cell_type": "code",
   "execution_count": 1,
   "metadata": {},
   "outputs": [],
   "source": [
    "from isoweek import Week  ## isoweek 라이브러리에 있는 Week 함수를 사용하기 위해 선언"
   ]
  },
  {
   "cell_type": "code",
   "execution_count": 2,
   "metadata": {},
   "outputs": [],
   "source": [
    "currYear = 2016"
   ]
  },
  {
   "cell_type": "code",
   "execution_count": 3,
   "metadata": {},
   "outputs": [
    {
     "data": {
      "text/plain": [
       "52"
      ]
     },
     "execution_count": 3,
     "metadata": {},
     "output_type": "execute_result"
    }
   ],
   "source": [
    "Week.last_week_of_year(currYear).week     ## 함수정상적으로 동작하는지 확인, 2016는 52주라는 "
   ]
  },
  {
   "cell_type": "code",
   "execution_count": null,
   "metadata": {},
   "outputs": [],
   "source": []
  },
  {
   "cell_type": "code",
   "execution_count": 4,
   "metadata": {},
   "outputs": [],
   "source": [
    "def preWeek(inputYearWeek,GapWeek):   ## inputYearWeek 와 GapWeek 2개의 인자값을 받는 preWeek 이름의 함수 만듬.\n",
    "        \n",
    "    intGapWeek = int(GapWeek) ## int 형으로 변환해줌. 계산을 하기 위해서임~\n",
    "    \n",
    "    strinputYearWeek = str(inputYearWeek)  ## str 으로 형변환, 년도와 주를 잘라서 계산하기 위함\n",
    "    \n",
    "    currYear = int(strinputYearWeek[:4])  ## 년도 부분 잘라서 currYear 라는 변수에 담아주고 int 형으로 형변환\n",
    "    currWeek = int(strinputYearWeek[-2:])  ## 주 정보 잘라서 currWeek 에 담아주고 int 형으로 형변환. [-2:] 라고 적어줘도 됨\n",
    "    \n",
    "    while currWeek <= intGapWeek:  ## 분리된 주차보다 GapWeek 가 작다면, 등호 체크 해야함. 같을때 00 으로 출력되기 때문.\n",
    "        \n",
    "        intGapWeek-=currWeek     ##  GapWeek - currWeek 를 해주고 그 값을 GapWeek 담음 \n",
    "        currYear-= 1   ##  currYear -1 을 해줘야함.\n",
    "        currWeek = Week.last_week_of_year(currYear).week  ## 함수식을 이용해서 해당 년도의 주차정보를 구함\n",
    "     \n",
    "    currWeek -= intGapWeek ## 반복문을 빠져나와 currWeek > GapWeek 이기 때문에 currWeek - GapWeek 빼주면 GapWeek 이제 0이 되고.\n",
    "   \n",
    "    if currWeek < 10:\n",
    "        week ='0' + str(currWeek) ## currWeek 가 10보다 작으면 1주~9주 라면, 자리수를 맟춰주기 위해서 str 형으로 형변환 이후 0을 앞에 붙어줌\n",
    "    \n",
    "    else:\n",
    "        week =  str(currWeek)\n",
    "    \n",
    "    year = str(currYear)\n",
    "    \n",
    "    return year+week"
   ]
  },
  {
   "cell_type": "code",
   "execution_count": 5,
   "metadata": {},
   "outputs": [
    {
     "data": {
      "text/plain": [
       "'201648'"
      ]
     },
     "execution_count": 5,
     "metadata": {},
     "output_type": "execute_result"
    }
   ],
   "source": [
    "preWeek(\"201701\",5)"
   ]
  },
  {
   "cell_type": "code",
   "execution_count": 6,
   "metadata": {},
   "outputs": [
    {
     "data": {
      "text/plain": [
       "'201652'"
      ]
     },
     "execution_count": 6,
     "metadata": {},
     "output_type": "execute_result"
    }
   ],
   "source": [
    "preWeek(201720,20)"
   ]
  },
  {
   "cell_type": "code",
   "execution_count": 7,
   "metadata": {},
   "outputs": [
    {
     "data": {
      "text/plain": [
       "'201525'"
      ]
     },
     "execution_count": 7,
     "metadata": {},
     "output_type": "execute_result"
    }
   ],
   "source": [
    "preWeek(201720,\"100\")"
   ]
  },
  {
   "cell_type": "code",
   "execution_count": null,
   "metadata": {},
   "outputs": [],
   "source": []
  },
  {
   "cell_type": "code",
   "execution_count": null,
   "metadata": {},
   "outputs": [],
   "source": []
  },
  {
   "cell_type": "code",
   "execution_count": null,
   "metadata": {},
   "outputs": [],
   "source": []
  },
  {
   "cell_type": "code",
   "execution_count": null,
   "metadata": {},
   "outputs": [],
   "source": []
  },
  {
   "cell_type": "code",
   "execution_count": null,
   "metadata": {},
   "outputs": [],
   "source": []
  },
  {
   "cell_type": "code",
   "execution_count": null,
   "metadata": {},
   "outputs": [],
   "source": []
  },
  {
   "cell_type": "code",
   "execution_count": null,
   "metadata": {},
   "outputs": [],
   "source": []
  },
  {
   "cell_type": "code",
   "execution_count": null,
   "metadata": {},
   "outputs": [],
   "source": []
  }
 ],
 "metadata": {
  "kernelspec": {
   "display_name": "Python 3",
   "language": "python",
   "name": "python3"
  },
  "language_info": {
   "codemirror_mode": {
    "name": "ipython",
    "version": 3
   },
   "file_extension": ".py",
   "mimetype": "text/x-python",
   "name": "python",
   "nbconvert_exporter": "python",
   "pygments_lexer": "ipython3",
   "version": "3.7.1"
  }
 },
 "nbformat": 4,
 "nbformat_minor": 2
}

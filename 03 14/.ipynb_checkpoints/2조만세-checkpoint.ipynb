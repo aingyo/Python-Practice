{
 "cells": [
  {
   "cell_type": "code",
   "execution_count": 46,
   "metadata": {},
   "outputs": [],
   "source": [
    "from isoweek import Week"
   ]
  },
  {
   "cell_type": "code",
   "execution_count": 47,
   "metadata": {},
   "outputs": [],
   "source": [
    "def preWeek(inputYearWeek,GapWeek):\n",
    "    inputYearWeek = str(inputYearWeek)\n",
    "    GapWeek = int(GapWeek)\n",
    "\n",
    "    # index 나누기\n",
    "    year = inputYearWeek[0:4]\n",
    "    week = inputYearWeek[4:]\n",
    "\n",
    "    resultWeek = int(week) - GapWeek \n",
    "    year = int(year)\n",
    "\n",
    "    while(resultWeek <= 0):\n",
    "\n",
    "        year = year - 1\n",
    "\n",
    "        preYearMaxWeek = Week.last_week_of_year(year).week\n",
    "\n",
    "        resultWeek = preYearMaxWeek + resultWeek\n",
    "\n",
    "\n",
    "    if (int(resultWeek)<10):\n",
    "        chResultWeek=str(year)+\"0\"+str(resultWeek)\n",
    "\n",
    "\n",
    "    else:\n",
    "        chResultWeek=str(year)+str(resultWeek)\n",
    "    return(chResultWeek)"
   ]
  },
  {
   "cell_type": "code",
   "execution_count": 50,
   "metadata": {},
   "outputs": [
    {
     "data": {
      "text/plain": [
       "'201553'"
      ]
     },
     "execution_count": 50,
     "metadata": {},
     "output_type": "execute_result"
    }
   ],
   "source": [
    "preWeek(\"201952\",208)"
   ]
  },
  {
   "cell_type": "code",
   "execution_count": 51,
   "metadata": {},
   "outputs": [
    {
     "data": {
      "text/plain": [
       "'201852'"
      ]
     },
     "execution_count": 51,
     "metadata": {},
     "output_type": "execute_result"
    }
   ],
   "source": [
    "preWeek(\"201952\",52)"
   ]
  },
  {
   "cell_type": "code",
   "execution_count": 73,
   "metadata": {},
   "outputs": [
    {
     "data": {
      "text/plain": [
       "'200043'"
      ]
     },
     "execution_count": 73,
     "metadata": {},
     "output_type": "execute_result"
    }
   ],
   "source": [
    "preWeek(\"201952\",1000)"
   ]
  },
  {
   "cell_type": "code",
   "execution_count": 53,
   "metadata": {},
   "outputs": [
    {
     "data": {
      "text/plain": [
       "'201910'"
      ]
     },
     "execution_count": 53,
     "metadata": {},
     "output_type": "execute_result"
    }
   ],
   "source": [
    "preWeek(\"201952\",42)"
   ]
  },
  {
   "cell_type": "code",
   "execution_count": 74,
   "metadata": {},
   "outputs": [
    {
     "data": {
      "text/plain": [
       "'C:\\\\Users\\\\user'"
      ]
     },
     "execution_count": 74,
     "metadata": {},
     "output_type": "execute_result"
    }
   ],
   "source": [
    "pwd"
   ]
  },
  {
   "cell_type": "code",
   "execution_count": null,
   "metadata": {},
   "outputs": [],
   "source": []
  }
 ],
 "metadata": {
  "kernelspec": {
   "display_name": "Python 3",
   "language": "python",
   "name": "python3"
  },
  "language_info": {
   "codemirror_mode": {
    "name": "ipython",
    "version": 3
   },
   "file_extension": ".py",
   "mimetype": "text/x-python",
   "name": "python",
   "nbconvert_exporter": "python",
   "pygments_lexer": "ipython3",
   "version": "3.7.1"
  }
 },
 "nbformat": 4,
 "nbformat_minor": 2
}

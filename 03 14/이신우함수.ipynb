{
 "cells": [
  {
   "cell_type": "code",
   "execution_count": 6,
   "metadata": {},
   "outputs": [],
   "source": [
    "def Ave(L):   ## 함수만들기 이름이 Ave 임\n",
    "    \n",
    "    del L[L.index(min(L))]  ## L 이라는 놈의 최소값의 인덱스값을 구해서 삭제해줌\n",
    "    del L[L.index(max(L))]  ## L 이라는 놈의 최대값의 인덱스값을 구해서 삭제해줌\n",
    "\n",
    "    average = sum(L)/len(L)   ## 평균을 구하기위해 L 이라는놈의 합을 개수로 나눠줌\n",
    "    \n",
    "    return average   ## 해당 함수(Ave)를 호출하면 average 값을 돌려줌(리턴)"
   ]
  },
  {
   "cell_type": "code",
   "execution_count": 7,
   "metadata": {},
   "outputs": [],
   "source": [
    "kk1 = [1,2,3,4,5,6,7,8,9,10]              ## 테스트를 위해 kk1 이라는 리스트를 준비, 위 함수의 L 대신 kk1 값들이 들어가는 거임!!\n",
    "kk2 = [10,20,30,40,50,60,70,80,90,100]"
   ]
  },
  {
   "cell_type": "code",
   "execution_count": 8,
   "metadata": {},
   "outputs": [
    {
     "data": {
      "text/plain": [
       "5.5"
      ]
     },
     "execution_count": 8,
     "metadata": {},
     "output_type": "execute_result"
    }
   ],
   "source": [
    "Ave(kk1)    ## Ave 함수 호출, 인자값으로 kk1 이라는 놈을 불러올꺼야!!"
   ]
  },
  {
   "cell_type": "code",
   "execution_count": 9,
   "metadata": {},
   "outputs": [
    {
     "data": {
      "text/plain": [
       "55.0"
      ]
     },
     "execution_count": 9,
     "metadata": {},
     "output_type": "execute_result"
    }
   ],
   "source": [
    "Ave(kk2)   ## Ave 함수 호출, 인자값으로 kk2 이라는 놈을 불러올꺼야!!"
   ]
  },
  {
   "cell_type": "code",
   "execution_count": null,
   "metadata": {},
   "outputs": [],
   "source": []
  },
  {
   "cell_type": "code",
   "execution_count": 74,
   "metadata": {},
   "outputs": [],
   "source": [
    "def SumSum(L):\n",
    "    \n",
    "    sumation = 0\n",
    "    for i in range (0,len(L)):\n",
    "        sumation = sumation + float(L[i])\n",
    "            \n",
    "    return sumation"
   ]
  },
  {
   "cell_type": "code",
   "execution_count": 75,
   "metadata": {},
   "outputs": [
    {
     "data": {
      "text/plain": [
       "2022.0"
      ]
     },
     "execution_count": 75,
     "metadata": {},
     "output_type": "execute_result"
    }
   ],
   "source": [
    "inputList = [\"11\",\"1234\",\"222\",\"555\"]\n",
    "SumSum(inputList)"
   ]
  },
  {
   "cell_type": "code",
   "execution_count": null,
   "metadata": {},
   "outputs": [],
   "source": []
  },
  {
   "cell_type": "code",
   "execution_count": 58,
   "metadata": {},
   "outputs": [],
   "source": [
    "inputListt = [\"11\",\"12\",\"13\",\"14\"]"
   ]
  },
  {
   "cell_type": "code",
   "execution_count": 61,
   "metadata": {},
   "outputs": [
    {
     "data": {
      "text/plain": [
       "50.0"
      ]
     },
     "execution_count": 61,
     "metadata": {},
     "output_type": "execute_result"
    }
   ],
   "source": [
    "float(inputListt[0]) + \\\n",
    "float(inputListt[1]) + \\\n",
    "float(inputListt[2]) + \\\n",
    "float(inputListt[3])"
   ]
  },
  {
   "cell_type": "code",
   "execution_count": 76,
   "metadata": {},
   "outputs": [
    {
     "data": {
      "text/plain": [
       "'C:\\\\Users\\\\SMART-23\\\\Python_Fintech\\\\03 14'"
      ]
     },
     "execution_count": 76,
     "metadata": {},
     "output_type": "execute_result"
    }
   ],
   "source": [
    "pwd"
   ]
  },
  {
   "cell_type": "code",
   "execution_count": null,
   "metadata": {},
   "outputs": [],
   "source": []
  },
  {
   "cell_type": "code",
   "execution_count": null,
   "metadata": {},
   "outputs": [],
   "source": []
  },
  {
   "cell_type": "code",
   "execution_count": null,
   "metadata": {},
   "outputs": [],
   "source": []
  }
 ],
 "metadata": {
  "kernelspec": {
   "display_name": "Python 3",
   "language": "python",
   "name": "python3"
  },
  "language_info": {
   "codemirror_mode": {
    "name": "ipython",
    "version": 3
   },
   "file_extension": ".py",
   "mimetype": "text/x-python",
   "name": "python",
   "nbconvert_exporter": "python",
   "pygments_lexer": "ipython3",
   "version": "3.7.1"
  }
 },
 "nbformat": 4,
 "nbformat_minor": 2
}

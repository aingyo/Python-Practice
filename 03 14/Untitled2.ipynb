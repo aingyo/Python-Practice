{
 "cells": [
  {
   "cell_type": "code",
   "execution_count": 1,
   "metadata": {},
   "outputs": [],
   "source": [
    "import requests #Used to service API connection\n",
    "from lxml import html #Used to parse XML\n",
    "from bs4 import BeautifulSoup #Used to read XML table on webpage\n",
    "import pandas as pd\n",
    "from common import cFunction as cf\n",
    "import numpy as np\n",
    "import wget"
   ]
  },
  {
   "cell_type": "code",
   "execution_count": 2,
   "metadata": {},
   "outputs": [
    {
     "name": "stdout",
     "output_type": "stream",
     "text": [
      "### The total number of target data is 416\n"
     ]
    }
   ],
   "source": [
    "dataList = pd.read_csv(\"https://docs.google.com/spreadsheets/d/1VngqG-m7G8k1587c21MZoheR1Fz3amp1mJtiBvA1Jb0/export?format=csv&gid=0\")\n",
    "print(\"### The total number of target data is \" + str(len(dataList)))"
   ]
  },
  {
   "cell_type": "code",
   "execution_count": 3,
   "metadata": {},
   "outputs": [
    {
     "name": "stdout",
     "output_type": "stream",
     "text": [
      "                                                   사이트\n",
      "305  https://www.data.go.kr/dataset/fileDownload.do...\n",
      "306  http://openapi.kab.co.kr/OpenAPI_ToolInstallPa...\n",
      "351  http://openapi.molit.go.kr/OpenAPI_ToolInstall...\n",
      "384  https://www.data.go.kr/dataset/fileDownload.do...\n",
      "388  https://www.data.go.kr/subMain.jsp#/L3B1YnIvcG...\n",
      "### The total number of filtered data is 5\n"
     ]
    }
   ],
   "source": [
    "dataList = dataList[   dataList['사이트'].notnull() ]\n",
    "print(dataList[[\"사이트\"]])\n",
    "print(\"### The total number of filtered data is \" + str(len(dataList)))"
   ]
  },
  {
   "cell_type": "code",
   "execution_count": 4,
   "metadata": {},
   "outputs": [],
   "source": [
    "outPath = \"../../data/outbound/\"\n",
    "folderList = dataList[\"폴더명\"].tolist()\n",
    "for i in folderList:  ## 400건에 대해 i 부터 쭉 돌린다.\n",
    "    cf.createFolder(outPath+i)\n",
    "\n",
    "dataList = dataList.fillna(\"\")\n",
    "dataList = dataList.reset_index(drop=True)  "
   ]
  },
  {
   "cell_type": "code",
   "execution_count": 5,
   "metadata": {
    "scrolled": true
   },
   "outputs": [
    {
     "data": {
      "text/html": [
       "<div>\n",
       "<style scoped>\n",
       "    .dataframe tbody tr th:only-of-type {\n",
       "        vertical-align: middle;\n",
       "    }\n",
       "\n",
       "    .dataframe tbody tr th {\n",
       "        vertical-align: top;\n",
       "    }\n",
       "\n",
       "    .dataframe thead th {\n",
       "        text-align: right;\n",
       "    }\n",
       "</style>\n",
       "<table border=\"1\" class=\"dataframe\">\n",
       "  <thead>\n",
       "    <tr style=\"text-align: right;\">\n",
       "      <th></th>\n",
       "      <th>번호</th>\n",
       "      <th>접속 사이트</th>\n",
       "      <th>제공항목(데이터셋)</th>\n",
       "      <th>폴더명</th>\n",
       "      <th>작업자</th>\n",
       "      <th>시작일</th>\n",
       "      <th>종료일</th>\n",
       "      <th>검토자</th>\n",
       "      <th>진행상태</th>\n",
       "      <th>비고</th>\n",
       "      <th>...</th>\n",
       "      <th>파라미터</th>\n",
       "      <th>제공방식.1</th>\n",
       "      <th>데이터타입</th>\n",
       "      <th>참고문서</th>\n",
       "      <th>참고문서타입</th>\n",
       "      <th>주기</th>\n",
       "      <th>비고_파라미터설명</th>\n",
       "      <th>완료여부</th>\n",
       "      <th>API PGM ID</th>\n",
       "      <th>파일명</th>\n",
       "    </tr>\n",
       "  </thead>\n",
       "  <tbody>\n",
       "    <tr>\n",
       "      <th>0</th>\n",
       "      <td>306</td>\n",
       "      <td>공공데이터포털</td>\n",
       "      <td>한국감정원 오피스텔 동향조사 현황</td>\n",
       "      <td>306_한국감정원 오피스텔 동향조사 현황</td>\n",
       "      <td></td>\n",
       "      <td></td>\n",
       "      <td></td>\n",
       "      <td></td>\n",
       "      <td></td>\n",
       "      <td></td>\n",
       "      <td>...</td>\n",
       "      <td></td>\n",
       "      <td></td>\n",
       "      <td></td>\n",
       "      <td></td>\n",
       "      <td></td>\n",
       "      <td></td>\n",
       "      <td></td>\n",
       "      <td></td>\n",
       "      <td>TB_OD10306.py</td>\n",
       "      <td>TB_OD10306_yyyymm.csv</td>\n",
       "    </tr>\n",
       "    <tr>\n",
       "      <th>1</th>\n",
       "      <td>307</td>\n",
       "      <td>공공데이터포털</td>\n",
       "      <td>한국감정원 부동산 매매가격지수 현황</td>\n",
       "      <td>307_한국감정원 부동산 매매가격지수 현황</td>\n",
       "      <td></td>\n",
       "      <td></td>\n",
       "      <td></td>\n",
       "      <td></td>\n",
       "      <td></td>\n",
       "      <td></td>\n",
       "      <td>...</td>\n",
       "      <td></td>\n",
       "      <td></td>\n",
       "      <td></td>\n",
       "      <td></td>\n",
       "      <td></td>\n",
       "      <td></td>\n",
       "      <td></td>\n",
       "      <td></td>\n",
       "      <td>TB_OD10307.py</td>\n",
       "      <td>TB_OD10307_yyyymm.csv</td>\n",
       "    </tr>\n",
       "    <tr>\n",
       "      <th>2</th>\n",
       "      <td>352</td>\n",
       "      <td>공공데이터포털</td>\n",
       "      <td>한국감정원 아파트 실거래가격지수</td>\n",
       "      <td>352_한국감정원 아파트 실거래가격지수</td>\n",
       "      <td></td>\n",
       "      <td></td>\n",
       "      <td></td>\n",
       "      <td></td>\n",
       "      <td></td>\n",
       "      <td></td>\n",
       "      <td>...</td>\n",
       "      <td>LAWD_CD=11110&amp;DEAL_YMD=201512</td>\n",
       "      <td>api</td>\n",
       "      <td>xml</td>\n",
       "      <td>https://www.data.go.kr/comm/file/download.do?a...</td>\n",
       "      <td>hwp</td>\n",
       "      <td></td>\n",
       "      <td></td>\n",
       "      <td></td>\n",
       "      <td>TB_OD10352.py</td>\n",
       "      <td>TB_OD10352_yyyymm.csv</td>\n",
       "    </tr>\n",
       "    <tr>\n",
       "      <th>3</th>\n",
       "      <td>385</td>\n",
       "      <td>공공데이터포털</td>\n",
       "      <td>주택금융관련 지수</td>\n",
       "      <td>385_주택금융관련 지수</td>\n",
       "      <td></td>\n",
       "      <td></td>\n",
       "      <td></td>\n",
       "      <td></td>\n",
       "      <td></td>\n",
       "      <td></td>\n",
       "      <td>...</td>\n",
       "      <td></td>\n",
       "      <td></td>\n",
       "      <td></td>\n",
       "      <td></td>\n",
       "      <td></td>\n",
       "      <td></td>\n",
       "      <td></td>\n",
       "      <td></td>\n",
       "      <td>TB_OD10385.py</td>\n",
       "      <td>TB_OD10385_yyyymm.csv</td>\n",
       "    </tr>\n",
       "    <tr>\n",
       "      <th>4</th>\n",
       "      <td>389</td>\n",
       "      <td>한국감정원</td>\n",
       "      <td>지가지수(연도별, 용도지역별, 월별, 월별_읍면동별, 이용상황별)</td>\n",
       "      <td>389_지가지수(연도별, 용도지역별, 월별, 월별_읍면동별, 이용상황별)</td>\n",
       "      <td></td>\n",
       "      <td></td>\n",
       "      <td></td>\n",
       "      <td></td>\n",
       "      <td></td>\n",
       "      <td></td>\n",
       "      <td>...</td>\n",
       "      <td></td>\n",
       "      <td></td>\n",
       "      <td></td>\n",
       "      <td></td>\n",
       "      <td></td>\n",
       "      <td></td>\n",
       "      <td></td>\n",
       "      <td></td>\n",
       "      <td>TB_OD10389.py</td>\n",
       "      <td>TB_OD10389_yyyymm.csv</td>\n",
       "    </tr>\n",
       "  </tbody>\n",
       "</table>\n",
       "<p>5 rows × 31 columns</p>\n",
       "</div>"
      ],
      "text/plain": [
       "    번호   접속 사이트                            제공항목(데이터셋)  \\\n",
       "0  306  공공데이터포털                    한국감정원 오피스텔 동향조사 현황   \n",
       "1  307  공공데이터포털                   한국감정원 부동산 매매가격지수 현황   \n",
       "2  352  공공데이터포털                     한국감정원 아파트 실거래가격지수   \n",
       "3  385  공공데이터포털                             주택금융관련 지수   \n",
       "4  389    한국감정원  지가지수(연도별, 용도지역별, 월별, 월별_읍면동별, 이용상황별)   \n",
       "\n",
       "                                        폴더명 작업자 시작일 종료일 검토자 진행상태 비고  \\\n",
       "0                    306_한국감정원 오피스텔 동향조사 현황                           \n",
       "1                   307_한국감정원 부동산 매매가격지수 현황                           \n",
       "2                     352_한국감정원 아파트 실거래가격지수                           \n",
       "3                             385_주택금융관련 지수                           \n",
       "4  389_지가지수(연도별, 용도지역별, 월별, 월별_읍면동별, 이용상황별)                           \n",
       "\n",
       "           ...                                     파라미터 제공방식.1 데이터타입  \\\n",
       "0          ...                                                         \n",
       "1          ...                                                         \n",
       "2          ...            LAWD_CD=11110&DEAL_YMD=201512    api   xml   \n",
       "3          ...                                                         \n",
       "4          ...                                                         \n",
       "\n",
       "                                                참고문서 참고문서타입 주기 비고_파라미터설명 완료여부  \\\n",
       "0                                                                               \n",
       "1                                                                               \n",
       "2  https://www.data.go.kr/comm/file/download.do?a...    hwp                     \n",
       "3                                                                               \n",
       "4                                                                               \n",
       "\n",
       "      API PGM ID                    파일명  \n",
       "0  TB_OD10306.py  TB_OD10306_yyyymm.csv  \n",
       "1  TB_OD10307.py  TB_OD10307_yyyymm.csv  \n",
       "2  TB_OD10352.py  TB_OD10352_yyyymm.csv  \n",
       "3  TB_OD10385.py  TB_OD10385_yyyymm.csv  \n",
       "4  TB_OD10389.py  TB_OD10389_yyyymm.csv  \n",
       "\n",
       "[5 rows x 31 columns]"
      ]
     },
     "execution_count": 5,
     "metadata": {},
     "output_type": "execute_result"
    }
   ],
   "source": [
    "dataList"
   ]
  },
  {
   "cell_type": "code",
   "execution_count": 6,
   "metadata": {},
   "outputs": [
    {
     "name": "stdout",
     "output_type": "stream",
     "text": [
      "https://www.data.go.kr/dataset/fileDownload.do?atchFileId=FILE_000000001439364&fileDetailSn=1&publicDataDetailPk=uddi:2438e83c-e8a6-41b2-b1e1-d536ac75ffc6\n",
      "http://openapi.kab.co.kr/OpenAPI_ToolInstallPackage/service/rest/TradePrcIndexSvc/getTradePrcIndex?startmonth=201402&endmonth=201403&region=11000&buildingtype=3&serviceKey=\n",
      "http://openapi.molit.go.kr/OpenAPI_ToolInstallPackage/service/rest/RTMSOBJSvc/getRTMSDataSvcAptTradeDev?\n",
      "https://www.data.go.kr/dataset/fileDownload.do?atchFileId=FILE_000000001420537&fileDetailSn=1&publicDataDetailPk=uddi:1187ad78-3933-43e9-92ae-9ed15c7096d8_201712281357\n",
      "https://www.data.go.kr/subMain.jsp#/L3B1YnIvcG90L215cC9Jcm9zTXlQYWdlL29wZW5EZXZEZXRhaWxQYWdlJEBeMDgyTTAwMDAxMzBeTTAwMDAxMzUkQF5wdWJsaWNEYXRhRGV0YWlsUGs9dWRkaTo3OGU4NjgwNS04ZmRhLTQ3OTAtODNhNS04MTVlMmU1NWQxNDdfMjAxNjA4MTcxNDI4JEBecHJjdXNlUmVxc3RTZXFObz03MTY0NTc1JEBecmVxc3RTdGVwQ29kZT1TVENEMDE=\n"
     ]
    }
   ],
   "source": [
    "for dataCount in range(0,len(dataList)):\n",
    "\n",
    "    inputUrl = dataList.loc[dataCount, \"사이트\"]\n",
    "    inputKey = dataList.loc[dataCount, \"서비스키\"]\n",
    "    inputParameter = dataList.loc[dataCount, \"파라미터\"]\n",
    "    inputFolder = dataList.loc[dataCount, \"폴더명\"]\n",
    "    inputFile = dataList.loc[dataCount, \"서비스명\"]\n",
    "    inputDataType = dataList.loc[dataCount, \"데이터타입\"]\n",
    "    inputRefUrl = dataList.loc[dataCount, \"참고문서\"]\n",
    "    inputRefType = dataList.loc[dataCount, \"참고문서타입\"]\n",
    "    print(inputUrl)"
   ]
  },
  {
   "cell_type": "code",
   "execution_count": 7,
   "metadata": {},
   "outputs": [
    {
     "name": "stdout",
     "output_type": "stream",
     "text": [
      "fullUrl is https://www.data.go.kr/subMain.jsp#/L3B1YnIvcG90L215cC9Jcm9zTXlQYWdlL29wZW5EZXZEZXRhaWxQYWdlJEBeMDgyTTAwMDAxMzBeTTAwMDAxMzUkQF5wdWJsaWNEYXRhRGV0YWlsUGs9dWRkaTo3OGU4NjgwNS04ZmRhLTQ3OTAtODNhNS04MTVlMmU1NWQxNDdfMjAxNjA4MTcxNDI4JEBecHJjdXNlUmVxc3RTZXFObz03MTY0NTc1JEBecmVxc3RTdGVwQ29kZT1TVENEMDE=aiaNgZ3r3nPeUj5%2FKuJ10ZNRmyePXavavOu8RZwO%2F84LnOn5KxhWa1%2F5nwxk0Y4M10W0fjCK1SksOQeQsdMu6A%3D%3D\n"
     ]
    }
   ],
   "source": [
    "    url = cf.makeURL(inputUrl,inputKey,inputParameter)\n",
    "    print(\"fullUrl is \" + url)"
   ]
  },
  {
   "cell_type": "code",
   "execution_count": 9,
   "metadata": {},
   "outputs": [
    {
     "name": "stdout",
     "output_type": "stream",
     "text": [
      "../../data/outbound/389_지가지수(연도별, 용도지역별, 월별, 월별_읍면동별, 이용상황별)/389_지가지수(연도별, 용도지역별, 월별, 월별_읍면동별, 이용상황별)전국지가변동률조사 통계조회 서비스.csv\n"
     ]
    }
   ],
   "source": [
    "    newDF = pd.DataFrame()\n",
    "    if (inputDataType == \"xml\"):\n",
    "        newDF = cf.xmlProcess(url)\n",
    "    elif(inputDataType == \"json\"):\n",
    "        newDF = cf.jsonProcess(url)\n",
    "    elif(inputDataType == \"csv\"):\n",
    "        newDF = cf.csvProcess(url)\n",
    "\n",
    "    fullOutPath = outPath+inputFolder+\"/\"+inputFolder+inputFile+\".csv\"\n",
    "    print(fullOutPath)"
   ]
  },
  {
   "cell_type": "code",
   "execution_count": 11,
   "metadata": {},
   "outputs": [],
   "source": [
    "    try:\n",
    "        newDF.to_csv(fullOutPath, index=False, encoding=\"ms949\")  ## 데이터저장\n",
    "    except Exception as x:\n",
    "        print(x)\n",
    "\n",
    "    fullOutRefPath = outPath + inputFolder + \"/\" + inputFolder + inputFile + \".\"+inputRefType"
   ]
  },
  {
   "cell_type": "code",
   "execution_count": 13,
   "metadata": {},
   "outputs": [
    {
     "data": {
      "text/plain": [
       "'../../data/outbound/389_지가지수(연도별, 용도지역별, 월별, 월별_읍면동별, 이용상황별)/389_지가지수(연도별, 용도지역별, 월별, 월별_읍면동별, 이용상황별)전국지가변동률조사 통계조회 서비스.'"
      ]
     },
     "execution_count": 13,
     "metadata": {},
     "output_type": "execute_result"
    }
   ],
   "source": [
    "fullOutRefPath"
   ]
  },
  {
   "cell_type": "code",
   "execution_count": 12,
   "metadata": {},
   "outputs": [
    {
     "name": "stdout",
     "output_type": "stream",
     "text": [
      "389_지가지수(연도별, 용도지역별, 월별, 월별_읍면동별, 이용상황별)참고문서 Error\n",
      "unknown url type: ''\n"
     ]
    }
   ],
   "source": [
    "    try:\n",
    "        wget.download(inputRefUrl, fullOutRefPath)\n",
    "    except Exception as e:\n",
    "        print(inputFolder+\"참고문서 Error\")\n",
    "        print(e)\n",
    "        pass #만약 오류가 발생하더라도 그냥 넘어간다."
   ]
  },
  {
   "cell_type": "code",
   "execution_count": null,
   "metadata": {},
   "outputs": [],
   "source": []
  }
 ],
 "metadata": {
  "kernelspec": {
   "display_name": "Python 3",
   "language": "python",
   "name": "python3"
  },
  "language_info": {
   "codemirror_mode": {
    "name": "ipython",
    "version": 3
   },
   "file_extension": ".py",
   "mimetype": "text/x-python",
   "name": "python",
   "nbconvert_exporter": "python",
   "pygments_lexer": "ipython3",
   "version": "3.7.1"
  }
 },
 "nbformat": 4,
 "nbformat_minor": 2
}

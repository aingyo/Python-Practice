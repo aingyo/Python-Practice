{
 "cells": [
  {
   "cell_type": "code",
   "execution_count": 25,
   "metadata": {},
   "outputs": [],
   "source": [
    "from isoweek import Week"
   ]
  },
  {
   "cell_type": "code",
   "execution_count": 26,
   "metadata": {},
   "outputs": [],
   "source": [
    "currYear = 2016"
   ]
  },
  {
   "cell_type": "code",
   "execution_count": 27,
   "metadata": {},
   "outputs": [
    {
     "data": {
      "text/plain": [
       "52"
      ]
     },
     "execution_count": 27,
     "metadata": {},
     "output_type": "execute_result"
    }
   ],
   "source": [
    "Week.last_week_of_year(currYear).week"
   ]
  },
  {
   "cell_type": "code",
   "execution_count": 28,
   "metadata": {},
   "outputs": [],
   "source": [
    "def preweek(inputYearWeek,GapWeek):\n",
    "\n",
    "    str_inputYearWeek = str(inputYearWeek)\n",
    "    int_year=int(str_inputYearWeek[0:4])\n",
    "    int_week=int(str_inputYearWeek[-2:])\n",
    "    int_GapWeek=int(GapWeek)\n",
    "    \n",
    "    aaaa=int_week-int_GapWeek\n",
    "    \n",
    "    while aaaa <= 0:\n",
    "        \n",
    "        int_year -= 1\n",
    "        bbbb = Week.last_week_of_year(int_year).week\n",
    "        aaaa += bbbb\n",
    "        \n",
    "    if aaaa < 10:\n",
    "        okok=str(int_year)+'0'+str(aaaa)\n",
    "        \n",
    "    else :\n",
    "        okok=str(int_year)+str(aaaa)\n",
    "    \n",
    "    return okok"
   ]
  },
  {
   "cell_type": "code",
   "execution_count": 29,
   "metadata": {},
   "outputs": [
    {
     "data": {
      "text/plain": [
       "'201506'"
      ]
     },
     "execution_count": 29,
     "metadata": {},
     "output_type": "execute_result"
    }
   ],
   "source": [
    "preweek(201701,100)"
   ]
  },
  {
   "cell_type": "code",
   "execution_count": null,
   "metadata": {},
   "outputs": [],
   "source": []
  }
 ],
 "metadata": {
  "kernelspec": {
   "display_name": "Python 3",
   "language": "python",
   "name": "python3"
  },
  "language_info": {
   "codemirror_mode": {
    "name": "ipython",
    "version": 3
   },
   "file_extension": ".py",
   "mimetype": "text/x-python",
   "name": "python",
   "nbconvert_exporter": "python",
   "pygments_lexer": "ipython3",
   "version": "3.7.1"
  }
 },
 "nbformat": 4,
 "nbformat_minor": 2
}

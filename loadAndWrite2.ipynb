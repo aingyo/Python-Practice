{
 "cells": [
  {
   "cell_type": "code",
   "execution_count": 2,
   "metadata": {
    "scrolled": true
   },
   "outputs": [
    {
     "name": "stdout",
     "output_type": "stream",
     "text": [
      "### The total number of target data is 416\n",
      "                                                   사이트\n",
      "305  https://www.data.go.kr/dataset/fileDownload.do...\n",
      "306  http://openapi.kab.co.kr/OpenAPI_ToolInstallPa...\n",
      "351  http://openapi.molit.go.kr/OpenAPI_ToolInstall...\n",
      "384  https://www.data.go.kr/dataset/fileDownload.do...\n",
      "388  https://www.data.go.kr/subMain.jsp#/L3B1YnIvcG...\n",
      "### The total number of filtered data is 5\n",
      "Error: Creating directory. ../../data/outbound/306_한국감정원 오피스텔 동향조사 현황\n",
      "Error: Creating directory. ../../data/outbound/307_한국감정원 부동산 매매가격지수 현황\n",
      "Error: Creating directory. ../../data/outbound/352_한국감정원 아파트 실거래가격지수\n",
      "Error: Creating directory. ../../data/outbound/385_주택금융관련 지수\n",
      "Error: Creating directory. ../../data/outbound/389_지가지수(연도별, 용도지역별, 월별, 월별_읍면동별, 이용상황별)\n",
      "https://www.data.go.kr/dataset/fileDownload.do?atchFileId=FILE_000000001439364&fileDetailSn=1&publicDataDetailPk=uddi:2438e83c-e8a6-41b2-b1e1-d536ac75ffc6\n",
      "fullUrl is https://www.data.go.kr/dataset/fileDownload.do?atchFileId=FILE_000000001439364&fileDetailSn=1&publicDataDetailPk=uddi:2438e83c-e8a6-41b2-b1e1-d536ac75ffc6\n",
      "../../data/outbound/306_한국감정원 오피스텔 동향조사 현황/306_한국감정원 오피스텔 동향조사 현황.csv\n",
      "[Errno 2] No such file or directory: '../../data/outbound/306_한국감정원 오피스텔 동향조사 현황/306_한국감정원 오피스텔 동향조사 현황.csv'\n",
      "306_한국감정원 오피스텔 동향조사 현황참고문서 Error\n",
      "[Errno 2] No such file or directory: '.\\\\../../data/outbound/306_한국감정원 오피스텔 동향조사 현황/306_한국감정원 오피스텔 동향조사 현황.cv74qthf.tmp'\n",
      "http://openapi.kab.co.kr/OpenAPI_ToolInstallPackage/service/rest/TradePrcIndexSvc/getTradePrcIndex?startmonth=201402&endmonth=201403&region=11000&buildingtype=3&serviceKey=\n",
      "fullUrl is http://openapi.kab.co.kr/OpenAPI_ToolInstallPackage/service/rest/TradePrcIndexSvc/getTradePrcIndex?startmonth=201402&endmonth=201403&region=11000&buildingtype=3&serviceKey=\n",
      "../../data/outbound/307_한국감정원 부동산 매매가격지수 현황/307_한국감정원 부동산 매매가격지수 현황.csv\n",
      "[Errno 2] No such file or directory: '../../data/outbound/307_한국감정원 부동산 매매가격지수 현황/307_한국감정원 부동산 매매가격지수 현황.csv'\n",
      "307_한국감정원 부동산 매매가격지수 현황참고문서 Error\n",
      "[Errno 2] No such file or directory: '.\\\\../../data/outbound/307_한국감정원 부동산 매매가격지수 현황/307_한국감정원 부동산 매매가격지수 현황.e63y_nal.tmp'\n",
      "http://openapi.molit.go.kr/OpenAPI_ToolInstallPackage/service/rest/RTMSOBJSvc/getRTMSDataSvcAptTradeDev?\n",
      "fullUrl is http://openapi.molit.go.kr/OpenAPI_ToolInstallPackage/service/rest/RTMSOBJSvc/getRTMSDataSvcAptTradeDev?serviceKey=AT33s775KYpJOkUBJu0dxkJuUeIfDIOJRzAH084EQS3JN%2BzFjErLHuk%2FGZa9L4gBTSGCzeA69tI9PwLp7B37IQ%3D%3D&LAWD_CD=11110&DEAL_YMD=201512\n",
      "         거래금액  건축년도     년      도로명 도로명건물본번호코드 도로명건물부번호코드 도로명시군구코드 도로명일련번호코드  \\\n",
      "0      82,500  2008  2015    사직로8길      00004      00000    11110        03   \n",
      "1      60,000  1981  2015  세종대로23길      00047      00000    11110        02   \n",
      "2     130,000  2004  2015    경희궁2길      00005      00005    11110        01   \n",
      "3     105,000  2004  2015    사직로8길      00024      00000    11110        05   \n",
      "4     120,000  2003  2015    사직로8길      00020      00000    11110        05   \n",
      "5      17,000  2014  2015      대학로      00047      00000    11110        05   \n",
      "6      17,000  2014  2015      대학로      00047      00000    11110        05   \n",
      "7      57,000  2006  2015   혜화로3가길      00030      00000    11110        01   \n",
      "8      44,000  1995  2015     창경궁로      00265      00000    11110        07   \n",
      "9      52,000  1995  2015     창경궁로      00265      00000    11110        07   \n",
      "\n",
      "  도로명지상지하코드    도로명코드 ... 법정동읍면동코드 법정동지번코드                    아파트   월      일  \\\n",
      "0         0  4100135 ...    11500       1  광화문풍림스페이스본(101동~105동)  12   1~10   \n",
      "1         0  4100190 ...    11700       1             롯데미도파광화문빌딩  12  21~31   \n",
      "2         0  4100005 ...    11800       1                   킹스매너  12   1~10   \n",
      "3         0  4100135 ...    11800       1              경희궁의아침2단지  12  11~20   \n",
      "4         0  4100135 ...    11800       1              경희궁 파크팰리스  12  21~31   \n",
      "5         0  3100002 ...    16600       1                  이화에수풀  12  11~20   \n",
      "6         0  3100002 ...    16600       1                  이화에수풀  12  11~20   \n",
      "7         0  4100544 ...    17000       1                    렉스빌  12  21~31   \n",
      "8         0  3005008 ...    17100       1                    아남1  12   1~10   \n",
      "9         0  3005008 ...    17100       1                    아남1  12   1~10   \n",
      "\n",
      "         일련번호    전용면적      지번   지역코드   층  \n",
      "0  11110-2203   94.51       9  11110  11  \n",
      "1    11110-12  149.95     145  11110   8  \n",
      "2   11110-118  194.43  110-15  11110   6  \n",
      "3   11110-115  124.17      71  11110   8  \n",
      "4   11110-107  146.33      95  11110   4  \n",
      "5  11110-2359   16.98  195-10  11110   8  \n",
      "6  11110-2359   16.98  195-10  11110   4  \n",
      "7   11110-973  106.98      19  11110   3  \n",
      "8    11110-25    84.8       4  11110  18  \n",
      "9    11110-25    84.9       4  11110  12  \n",
      "\n",
      "[10 rows x 24 columns]\n",
      "../../data/outbound/352_한국감정원 아파트 실거래가격지수/352_한국감정원 아파트 실거래가격지수.csv\n",
      "[Errno 2] No such file or directory: '../../data/outbound/352_한국감정원 아파트 실거래가격지수/352_한국감정원 아파트 실거래가격지수.csv'\n",
      "352_한국감정원 아파트 실거래가격지수참고문서 Error\n",
      "[Errno 2] No such file or directory: '.\\\\../../data/outbound/352_한국감정원 아파트 실거래가격지수/352_한국감정원 아파트 실거래가격지수.hwpu5bbjq3v.tmp'\n",
      "https://www.data.go.kr/dataset/fileDownload.do?atchFileId=FILE_000000001420537&fileDetailSn=1&publicDataDetailPk=uddi:1187ad78-3933-43e9-92ae-9ed15c7096d8_201712281357\n",
      "fullUrl is https://www.data.go.kr/dataset/fileDownload.do?atchFileId=FILE_000000001420537&fileDetailSn=1&publicDataDetailPk=uddi:1187ad78-3933-43e9-92ae-9ed15c7096d8_201712281357\n",
      "../../data/outbound/385_주택금융관련 지수/385_주택금융관련 지수.csv\n",
      "[Errno 2] No such file or directory: '../../data/outbound/385_주택금융관련 지수/385_주택금융관련 지수.csv'\n",
      "385_주택금융관련 지수참고문서 Error\n",
      "[Errno 2] No such file or directory: '.\\\\../../data/outbound/385_주택금융관련 지수/385_주택금융관련 지수.wjqxwsa9.tmp'\n",
      "https://www.data.go.kr/subMain.jsp#/L3B1YnIvcG90L215cC9Jcm9zTXlQYWdlL29wZW5EZXZEZXRhaWxQYWdlJEBeMDgyTTAwMDAxMzBeTTAwMDAxMzUkQF5wdWJsaWNEYXRhRGV0YWlsUGs9dWRkaTo3OGU4NjgwNS04ZmRhLTQ3OTAtODNhNS04MTVlMmU1NWQxNDdfMjAxNjA4MTcxNDI4JEBecHJjdXNlUmVxc3RTZXFObz03MTY0NTc1JEBecmVxc3RTdGVwQ29kZT1TVENEMDE=\n",
      "fullUrl is https://www.data.go.kr/subMain.jsp#/L3B1YnIvcG90L215cC9Jcm9zTXlQYWdlL29wZW5EZXZEZXRhaWxQYWdlJEBeMDgyTTAwMDAxMzBeTTAwMDAxMzUkQF5wdWJsaWNEYXRhRGV0YWlsUGs9dWRkaTo3OGU4NjgwNS04ZmRhLTQ3OTAtODNhNS04MTVlMmU1NWQxNDdfMjAxNjA4MTcxNDI4JEBecHJjdXNlUmVxc3RTZXFObz03MTY0NTc1JEBecmVxc3RTdGVwQ29kZT1TVENEMDE=aiaNgZ3r3nPeUj5%2FKuJ10ZNRmyePXavavOu8RZwO%2F84LnOn5KxhWa1%2F5nwxk0Y4M10W0fjCK1SksOQeQsdMu6A%3D%3D\n",
      "../../data/outbound/389_지가지수(연도별, 용도지역별, 월별, 월별_읍면동별, 이용상황별)/389_지가지수(연도별, 용도지역별, 월별, 월별_읍면동별, 이용상황별)전국지가변동률조사 통계조회 서비스.csv\n",
      "[Errno 2] No such file or directory: '../../data/outbound/389_지가지수(연도별, 용도지역별, 월별, 월별_읍면동별, 이용상황별)/389_지가지수(연도별, 용도지역별, 월별, 월별_읍면동별, 이용상황별)전국지가변동률조사 통계조회 서비스.csv'\n",
      "389_지가지수(연도별, 용도지역별, 월별, 월별_읍면동별, 이용상황별)참고문서 Error\n",
      "[Errno 2] No such file or directory: '.\\\\../../data/outbound/389_지가지수(연도별, 용도지역별, 월별, 월별_읍면동별, 이용상황별)/389_지가지수(연도별, 용도지역별, 월별, 월별_읍면동별, 이용상황별)전국지가변동률조사 통계조회 서비스.yr1xl35p.tmp'\n"
     ]
    }
   ],
   "source": [
    "import requests #Used to service API connection\n",
    "from lxml import html #Used to parse XML\n",
    "from bs4 import BeautifulSoup #Used to read XML table on webpage\n",
    "import pandas as pd\n",
    "from common import cFunction as cf\n",
    "import numpy as np\n",
    "import wget\n",
    "\n",
    "# get dataList from filesystem to load and write\n",
    "#dataList = pd.read_excel(\"../../data/inbound/dataList.xlsx\")\n",
    "\n",
    "# get dataList from spreadsheet to load and write\n",
    "dataList = pd.read_csv(\"https://docs.google.com/spreadsheets/d/1VngqG-m7G8k1587c21MZoheR1Fz3amp1mJtiBvA1Jb0/export?format=csv&gid=0\")\n",
    "print(\"### The total number of target data is \" + str(len(dataList)))\n",
    "\n",
    "# Filtering -> get dataList only defined url\n",
    "dataList = dataList[   dataList['사이트'].notnull() ]\n",
    "print(dataList[[\"사이트\"]])\n",
    "print(\"### The total number of filtered data is \" + str(len(dataList)))\n",
    "\n",
    "###################################################\n",
    "# Filtering -> for your own object\n",
    "#dataList = dataList[   dataList['번호'] == \"352\" ]\n",
    "###################################################\n",
    "\n",
    "# create folder to save result\n",
    "outPath = \"../../data/outbound/\"\n",
    "folderList = dataList[\"폴더명\"].tolist()\n",
    "for i in folderList:  ## 400건에 대해 i 부터 쭉 돌린다.\n",
    "    cf.createFolder(outPath+i)\n",
    "\n",
    "dataList = dataList.fillna(\"\")\n",
    "dataList = dataList.reset_index(drop=True)  \n",
    "\n",
    "# get dataList to load and write\n",
    "for dataCount in range(0,len(dataList)):\n",
    "\n",
    "    inputUrl = dataList.loc[dataCount, \"사이트\"]\n",
    "    inputKey = dataList.loc[dataCount, \"서비스키\"]\n",
    "    inputParameter = dataList.loc[dataCount, \"파라미터\"]\n",
    "    inputFolder = dataList.loc[dataCount, \"폴더명\"]\n",
    "    inputFile = dataList.loc[dataCount, \"서비스명\"]\n",
    "    inputDataType = dataList.loc[dataCount, \"데이터타입\"]\n",
    "    inputRefUrl = dataList.loc[dataCount, \"참고문서\"]\n",
    "    inputRefType = dataList.loc[dataCount, \"참고문서타입\"]\n",
    "    print(inputUrl)\n",
    "\n",
    "    url = cf.makeURL(inputUrl,inputKey,inputParameter)\n",
    "    print(\"fullUrl is \" + url)\n",
    "\n",
    "    newDF = pd.DataFrame()\n",
    "    if (inputDataType == \"xml\"):\n",
    "        newDF = cf.xmlProcess(url)\n",
    "    elif(inputDataType == \"json\"):\n",
    "        newDF = cf.jsonProcess(url)\n",
    "    elif(inputDataType == \"csv\"):\n",
    "        newDF = cf.csvProcess(url)\n",
    "\n",
    "    fullOutPath = outPath+inputFolder+\"/\"+inputFolder+inputFile+\".csv\"\n",
    "    print(fullOutPath)\n",
    "\n",
    "    try:\n",
    "        newDF.to_csv(fullOutPath, index=False, encoding=\"ms949\")  ## 데이터저장\n",
    "    except Exception as x:\n",
    "        print(x)\n",
    "\n",
    "    fullOutRefPath = outPath + inputFolder + \"/\" + inputFolder + inputFile + \".\"+inputRefType\n",
    "    try:\n",
    "        wget.download(inputRefUrl, fullOutRefPath)\n",
    "    except Exception as e:\n",
    "        print(inputFolder+\"참고문서 Error\")\n",
    "        print(e)\n",
    "        pass #만약 오류가 발생하더라도 그냥 넘어간다."
   ]
  },
  {
   "cell_type": "code",
   "execution_count": 16,
   "metadata": {},
   "outputs": [
    {
     "data": {
      "text/plain": [
       "'C:\\\\Users\\\\SMART-23\\\\Python_Fintech'"
      ]
     },
     "execution_count": 16,
     "metadata": {},
     "output_type": "execute_result"
    }
   ],
   "source": [
    "pwd"
   ]
  },
  {
   "cell_type": "code",
   "execution_count": 1,
   "metadata": {},
   "outputs": [
    {
     "ename": "NameError",
     "evalue": "name 'pwd' is not defined",
     "output_type": "error",
     "traceback": [
      "\u001b[1;31m---------------------------------------------------------------------------\u001b[0m",
      "\u001b[1;31mNameError\u001b[0m                                 Traceback (most recent call last)",
      "\u001b[1;32m<ipython-input-1-d9365371ba60>\u001b[0m in \u001b[0;36m<module>\u001b[1;34m\u001b[0m\n\u001b[0;32m      1\u001b[0m \u001b[1;31m#asdasd\u001b[0m\u001b[1;33m\u001b[0m\u001b[1;33m\u001b[0m\u001b[1;33m\u001b[0m\u001b[0m\n\u001b[1;32m----> 2\u001b[1;33m \u001b[0mpwd\u001b[0m\u001b[1;33m\u001b[0m\u001b[1;33m\u001b[0m\u001b[0m\n\u001b[0m",
      "\u001b[1;31mNameError\u001b[0m: name 'pwd' is not defined"
     ]
    }
   ],
   "source": [
    "#asdasd\n",
    "pwd"
   ]
  },
  {
   "cell_type": "markdown",
   "metadata": {
    "collapsed": true
   },
   "source": []
  }
 ],
 "metadata": {
  "kernelspec": {
   "display_name": "Python 3",
   "language": "python",
   "name": "python3"
  },
  "language_info": {
   "codemirror_mode": {
    "name": "ipython",
    "version": 3
   },
   "file_extension": ".py",
   "mimetype": "text/x-python",
   "name": "python",
   "nbconvert_exporter": "python",
   "pygments_lexer": "ipython3",
   "version": "3.7.1"
  }
 },
 "nbformat": 4,
 "nbformat_minor": 2
}
